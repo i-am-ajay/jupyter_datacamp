{
 "cells": [
  {
   "cell_type": "code",
   "execution_count": null,
   "id": "f3e628e4",
   "metadata": {},
   "outputs": [],
   "source": [
    "# Pandas provide many methods to read and manipute data\n"
   ]
  },
  {
   "cell_type": "code",
   "execution_count": 4,
   "id": "475ddd2d",
   "metadata": {},
   "outputs": [
    {
     "name": "stdout",
     "output_type": "stream",
     "text": [
      "           X          Y Unique Squirrel ID Hectare Shift      Date  \\\n",
      "0 -73.956134  40.794082     37F-PM-1014-03     37F    PM  10142018   \n",
      "1 -73.957044  40.794851     37E-PM-1006-03     37E    PM  10062018   \n",
      "2 -73.976831  40.766718      2E-AM-1010-03     02E    AM  10102018   \n",
      "3 -73.975725  40.769703      5D-PM-1018-05     05D    PM  10182018   \n",
      "4 -73.959313  40.797533     39B-AM-1018-01     39B    AM  10182018   \n",
      "\n",
      "   Hectare Squirrel Number       Age Primary Fur Color Highlight Fur Color  \\\n",
      "0                        3       NaN               NaN                 NaN   \n",
      "1                        3     Adult              Gray            Cinnamon   \n",
      "2                        3     Adult          Cinnamon                 NaN   \n",
      "3                        5  Juvenile              Gray                 NaN   \n",
      "4                        1       NaN               NaN                 NaN   \n",
      "\n",
      "   ...   Kuks  Quaas  Moans Tail flags Tail twitches  Approaches  Indifferent  \\\n",
      "0  ...  False  False  False      False         False       False        False   \n",
      "1  ...  False  False  False      False         False       False        False   \n",
      "2  ...  False  False  False      False         False       False         True   \n",
      "3  ...  False  False  False      False         False       False        False   \n",
      "4  ...   True  False  False      False         False       False        False   \n",
      "\n",
      "   Runs from  Other Interactions                                      Lat/Long  \n",
      "0      False                 NaN    POINT (-73.9561344937861 40.7940823884086)  \n",
      "1       True                  me  POINT (-73.9570437717691 40.794850940803904)  \n",
      "2      False                 NaN   POINT (-73.9768311751004 40.76671780725581)  \n",
      "3       True                 NaN    POINT (-73.9757249834141 40.7697032606755)  \n",
      "4      False                 NaN     POINT (-73.9593126695714 40.797533370163)  \n",
      "\n",
      "[5 rows x 31 columns]\n",
      "<class 'pandas.core.frame.DataFrame'>\n",
      "RangeIndex: 3023 entries, 0 to 3022\n",
      "Data columns (total 31 columns):\n",
      " #   Column                                      Non-Null Count  Dtype  \n",
      "---  ------                                      --------------  -----  \n",
      " 0   X                                           3023 non-null   float64\n",
      " 1   Y                                           3023 non-null   float64\n",
      " 2   Unique Squirrel ID                          3023 non-null   object \n",
      " 3   Hectare                                     3023 non-null   object \n",
      " 4   Shift                                       3023 non-null   object \n",
      " 5   Date                                        3023 non-null   int64  \n",
      " 6   Hectare Squirrel Number                     3023 non-null   int64  \n",
      " 7   Age                                         2902 non-null   object \n",
      " 8   Primary Fur Color                           2968 non-null   object \n",
      " 9   Highlight Fur Color                         1937 non-null   object \n",
      " 10  Combination of Primary and Highlight Color  3023 non-null   object \n",
      " 11  Color notes                                 182 non-null    object \n",
      " 12  Location                                    2959 non-null   object \n",
      " 13  Above Ground Sighter Measurement            2909 non-null   object \n",
      " 14  Specific Location                           476 non-null    object \n",
      " 15  Running                                     3023 non-null   bool   \n",
      " 16  Chasing                                     3023 non-null   bool   \n",
      " 17  Climbing                                    3023 non-null   bool   \n",
      " 18  Eating                                      3023 non-null   bool   \n",
      " 19  Foraging                                    3023 non-null   bool   \n",
      " 20  Other Activities                            437 non-null    object \n",
      " 21  Kuks                                        3023 non-null   bool   \n",
      " 22  Quaas                                       3023 non-null   bool   \n",
      " 23  Moans                                       3023 non-null   bool   \n",
      " 24  Tail flags                                  3023 non-null   bool   \n",
      " 25  Tail twitches                               3023 non-null   bool   \n",
      " 26  Approaches                                  3023 non-null   bool   \n",
      " 27  Indifferent                                 3023 non-null   bool   \n",
      " 28  Runs from                                   3023 non-null   bool   \n",
      " 29  Other Interactions                          240 non-null    object \n",
      " 30  Lat/Long                                    3023 non-null   object \n",
      "dtypes: bool(13), float64(2), int64(2), object(14)\n",
      "memory usage: 463.6+ KB\n",
      "None\n",
      "                 X            Y          Date  Hectare Squirrel Number\n",
      "count  3023.000000  3023.000000  3.023000e+03              3023.000000\n",
      "mean    -73.967184    40.780853  1.011949e+07                 4.123718\n",
      "std       0.007726     0.010285  4.246671e+04                 3.096492\n",
      "min     -73.981159    40.764911  1.006202e+07                 1.000000\n",
      "25%     -73.973102    40.771676  1.008202e+07                 2.000000\n",
      "50%     -73.968594    40.778166  1.012202e+07                 3.000000\n",
      "75%     -73.960189    40.791219  1.014202e+07                 6.000000\n",
      "max     -73.949722    40.800119  1.020202e+07                23.000000\n",
      "(3023, 31)\n",
      "Index(['X', 'Y', 'Unique Squirrel ID', 'Hectare', 'Shift', 'Date',\n",
      "       'Hectare Squirrel Number', 'Age', 'Primary Fur Color',\n",
      "       'Highlight Fur Color', 'Combination of Primary and Highlight Color',\n",
      "       'Color notes', 'Location', 'Above Ground Sighter Measurement',\n",
      "       'Specific Location', 'Running', 'Chasing', 'Climbing', 'Eating',\n",
      "       'Foraging', 'Other Activities', 'Kuks', 'Quaas', 'Moans', 'Tail flags',\n",
      "       'Tail twitches', 'Approaches', 'Indifferent', 'Runs from',\n",
      "       'Other Interactions', 'Lat/Long'],\n",
      "      dtype='object')\n"
     ]
    }
   ],
   "source": [
    "import pandas as pd\n",
    "\n",
    "# read a dataset from csv file\n",
    "df = pd.read_csv('Squirrel_Data.csv')\n",
    "\n",
    "# read top 5 records\n",
    "print(df.head())\n",
    "\n",
    "print(df.info())\n",
    "print(df.describe())\n",
    "print(df.shape)\n",
    "print(df.columns)\n"
   ]
  },
  {
   "cell_type": "code",
   "execution_count": 10,
   "id": "addaf41a",
   "metadata": {},
   "outputs": [
    {
     "name": "stdout",
     "output_type": "stream",
     "text": [
      "[9, 16, 25, 36, 49]\n",
      "[4, 6, 8, 22, 12]\n",
      "[7, 9, 2]\n"
     ]
    }
   ],
   "source": [
    "# Day 27\n",
    "num_list = [3,4,5,6,7]\n",
    "num_list_sqr = [x ** 2 for x in num_list]\n",
    "print(num_list_sqr)\n",
    "\n",
    "\n",
    "# even number\n",
    "num_list = [4,6,7,8,9,22,12,13]\n",
    "even_num_list = [x for x in num_list if x%2 == 0]\n",
    "print(even_num_list)\n",
    "\n",
    "# overlap list\n",
    "\n",
    "list1 = [4,7,9,2,3,0]\n",
    "list2 = [2,9,7,6]\n",
    "\n",
    "list3 = [x for x in list1 for y in list2 if x==y]\n",
    "print(list3)"
   ]
  },
  {
   "cell_type": "code",
   "execution_count": null,
   "id": "c9bae60d",
   "metadata": {},
   "outputs": [],
   "source": []
  }
 ],
 "metadata": {
  "kernelspec": {
   "display_name": "Python 3 (ipykernel)",
   "language": "python",
   "name": "python3"
  },
  "language_info": {
   "codemirror_mode": {
    "name": "ipython",
    "version": 3
   },
   "file_extension": ".py",
   "mimetype": "text/x-python",
   "name": "python",
   "nbconvert_exporter": "python",
   "pygments_lexer": "ipython3",
   "version": "3.9.7"
  }
 },
 "nbformat": 4,
 "nbformat_minor": 5
}
