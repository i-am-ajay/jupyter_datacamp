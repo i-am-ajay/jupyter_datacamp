{
 "cells": [
  {
   "cell_type": "code",
   "execution_count": 1,
   "id": "b06b7487",
   "metadata": {},
   "outputs": [
    {
     "name": "stdout",
     "output_type": "stream",
     "text": [
      "Hello\n"
     ]
    }
   ],
   "source": [
    "# Variables and Constants.\n",
    "x = \"Hello\" # Here x is a variable, \"Hello\" is a constant\n",
    "print(x)"
   ]
  },
  {
   "cell_type": "code",
   "execution_count": 20,
   "id": "ea48a831",
   "metadata": {},
   "outputs": [
    {
     "name": "stdout",
     "output_type": "stream",
     "text": [
      "Sum : 8\n",
      "Minu : 2\n",
      "Multiply : 15\n",
      "Divide : 1.6666666666666667\n",
      "Divide without decimal : 1\n",
      "Mode : 2\n"
     ]
    }
   ],
   "source": [
    "# Operations\n",
    "#Arithmatic Operations\n",
    "poonamBirthYear = 5\n",
    "aruBirthYear = 3\n",
    "\n",
    "print(\"Sum : \"+str(poonamBirthYear + aruBirthYear))\n",
    "print(\"Minus : \"+str(poonamBirthYear - aruBirthYear))\n",
    "print(\"Multiply : \"+str(poonamBirthYear * aruBirthYear))\n",
    "print(\"Divide : \"+str(poonamBirthYear / aruBirthYear))\n",
    "print(\"Divide without decimal : \"+str(poonamBirthYear // aruBirthYear))\n",
    "print(\"Mode : \"+str(poonamBirthYear % aruBirthYear))"
   ]
  },
  {
   "cell_type": "code",
   "execution_count": 23,
   "id": "a449e246",
   "metadata": {},
   "outputs": [
    {
     "name": "stdout",
     "output_type": "stream",
     "text": [
      "Less Than ( < ) : False\n",
      "Less Than Eqauls To ( <= ) : False\n",
      "Equals : ( == )False\n",
      "Not Equals : ( != )True\n",
      "Greater Than ( > ): True\n",
      "Greater Than Equals To ( >= ) : True\n"
     ]
    }
   ],
   "source": [
    "# Relational Operators\n",
    "poonamBirthYear = 5\n",
    "aruBirthYear = 3\n",
    "\n",
    "print(\"Less Than ( < ) : \"+str(poonamBirthYear < aruBirthYear))\n",
    "print(\"Less Than Eqauls To ( <= ) : \"+str(poonamBirthYear <= aruBirthYear))\n",
    "print(\"Equals : ( == )\"+str(poonamBirthYear == aruBirthYear))\n",
    "print(\"Not Equals : ( != )\"+str(poonamBirthYear != aruBirthYear))\n",
    "print(\"Greater Than ( > ): \"+str(poonamBirthYear > aruBirthYear))\n",
    "print(\"Greater Than Equals To ( >= ) : \"+str(poonamBirthYear >= aruBirthYear))"
   ]
  },
  {
   "cell_type": "code",
   "execution_count": 28,
   "id": "5373fe3c",
   "metadata": {},
   "outputs": [
    {
     "name": "stdout",
     "output_type": "stream",
     "text": [
      "Logical not : not True -> False\n",
      "Logical & : True and True -> True\n",
      "Logical | : True or False -> True\n"
     ]
    }
   ],
   "source": [
    "# Logical Operators\n",
    "print(\"Logical not : not True -> \" + str(not True))\n",
    "print(\"Logical & : True and True -> \" + str(True and True))\n",
    "print(\"Logical | : True or False -> \" + str(True or False))\n"
   ]
  },
  {
   "cell_type": "code",
   "execution_count": 5,
   "id": "e2f6b0ff",
   "metadata": {},
   "outputs": [
    {
     "name": "stdout",
     "output_type": "stream",
     "text": [
      "true\n",
      "This is the end\n"
     ]
    }
   ],
   "source": [
    "# Decision Making\n",
    "if True:\n",
    "    print(\"true\")\n",
    "else:\n",
    "    print(\"false\")\n",
    "    \n",
    "# descision making using variables\n",
    "\n",
    "dice = None\n",
    "\n",
    "if dice == 1 :\n",
    "    print(\"I got a 1\")\n",
    "elif dice == 2:\n",
    "    print(\"Yay!! i got a 2\") \n",
    "else:\n",
    "    print(\"This is the end\")"
   ]
  },
  {
   "cell_type": "code",
   "execution_count": null,
   "id": "01865b73",
   "metadata": {},
   "outputs": [],
   "source": [
    "x = 10\n",
    "\n",
    "def test():\n",
    "    z = 10\n",
    "    if True :\n",
    "        z = 20\n",
    "    y = 12\n",
    "    print(z)\n",
    "    \n",
    "def test1():\n",
    "    print(y)\n",
    "    \n",
    "print(y)"
   ]
  }
 ],
 "metadata": {
  "kernelspec": {
   "display_name": "Python 3 (ipykernel)",
   "language": "python",
   "name": "python3"
  },
  "language_info": {
   "codemirror_mode": {
    "name": "ipython",
    "version": 3
   },
   "file_extension": ".py",
   "mimetype": "text/x-python",
   "name": "python",
   "nbconvert_exporter": "python",
   "pygments_lexer": "ipython3",
   "version": "3.9.7"
  }
 },
 "nbformat": 4,
 "nbformat_minor": 5
}
